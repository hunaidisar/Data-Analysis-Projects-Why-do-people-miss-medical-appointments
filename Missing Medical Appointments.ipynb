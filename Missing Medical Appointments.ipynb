{
 "cells": [
  {
   "cell_type": "markdown",
   "id": "79b14003",
   "metadata": {},
   "source": [
    "# Missing Medical Appointments\n",
    "in this analysis we will explore the reasons behind people not showing up for their medical appointments by examining the data set provided by various medical facilities in Brazil, Rio De Janeiro.\n",
    "\n"
   ]
  },
  {
   "cell_type": "markdown",
   "id": "44b2297e",
   "metadata": {},
   "source": [
    "## First step : loading and cleaning the data"
   ]
  },
  {
   "cell_type": "code",
   "execution_count": 1,
   "id": "c6fc9cf9",
   "metadata": {},
   "outputs": [],
   "source": [
    "import numpy as np\n",
    "import pandas as pd\n",
    "import matplotlib.pyplot as plt\n",
    "import seaborn as sns\n",
    "%matplotlib inline"
   ]
  },
  {
   "cell_type": "code",
   "execution_count": null,
   "id": "34d4d215",
   "metadata": {},
   "outputs": [],
   "source": [
    "noshowappointments_df = pd.read_csv(r\"C:\\Users\\SARA\\noshowappointments-kagglev2-may-2016.csv\")"
   ]
  },
  {
   "cell_type": "markdown",
   "id": "8a8ca2ce",
   "metadata": {},
   "source": [
    "the original data included a negative number in the age column, assuming it's an entry error it is corrected below."
   ]
  },
  {
   "cell_type": "code",
   "execution_count": null,
   "id": "f1a34937",
   "metadata": {},
   "outputs": [],
   "source": [
    "mask = noshowappointments_df['Age'] < 0\n",
    "noshowappointments_df.ix[mask, 'Age'] = noshowappointments_df.ix[mask, 'Age'] * (-1)"
   ]
  },
  {
   "cell_type": "markdown",
   "id": "7d1634f1",
   "metadata": {},
   "source": [
    "changing the data type of the \"No-show\" column to boolean values for easier handling.\n",
    "\n"
   ]
  },
  {
   "cell_type": "code",
   "execution_count": null,
   "id": "9d0112fc",
   "metadata": {},
   "outputs": [],
   "source": [
    "def show_or_noshow(string):\n",
    "    if string == \"Yes\" or string ==\"yes\":\n",
    "        return True\n",
    "    elif string == \"No\" or string == \"no\":\n",
    "        return False\n",
    "    else:\n",
    "        return None\n",
    "\n",
    "new_Noshow = noshowappointments_df[\"No-show\"].apply(show_or_noshow)\n",
    "noshowappointments_df[\"No-show\"] = new_Noshow"
   ]
  },
  {
   "cell_type": "markdown",
   "id": "228f262f",
   "metadata": {},
   "source": [
    "dropping columns that will not be used in this analysis"
   ]
  },
  {
   "cell_type": "code",
   "execution_count": null,
   "id": "ad55bf01",
   "metadata": {},
   "outputs": [],
   "source": [
    "noshowappointments_df = noshowappointments_df.drop(noshowappointments_df.columns[[0,1,3,6,7,8,9,10,11,12]], axis=1,inplace=False)"
   ]
  },
  {
   "cell_type": "code",
   "execution_count": null,
   "id": "43a73941",
   "metadata": {},
   "outputs": [],
   "source": [
    "noshowappointments_df.head()\n"
   ]
  },
  {
   "cell_type": "markdown",
   "id": "21f5dd8f",
   "metadata": {},
   "source": [
    "changing the \"AppointmentDay\" column to just the day of the week on which the Appointment was scheduled."
   ]
  },
  {
   "cell_type": "code",
   "execution_count": null,
   "id": "7cace172",
   "metadata": {},
   "outputs": [],
   "source": [
    "from datetime import datetime as dt\n",
    "\n",
    "def parse_date(date):\n",
    "    if date == '':\n",
    "        return None\n",
    "    else:\n",
    "        date = dt.strptime(date, '%Y-%m-%dT%H:%M:%SZ')\n",
    "        return dt.strftime(date,\"%a\")\n",
    "    \n",
    "    \n",
    "noshowappointments_df[\"AppointmentDay\"]= noshowappointments_df[\"AppointmentDay\"].apply(parse_date)\n",
    "noshowappointments_df.columns=['Gender', 'Appointment Day', 'Age', 'No-show']"
   ]
  },
  {
   "cell_type": "code",
   "execution_count": null,
   "id": "28bc10fd",
   "metadata": {},
   "outputs": [],
   "source": [
    "noshowappointments_df.groupby(\"Appointment Day\").sum()\n"
   ]
  },
  {
   "cell_type": "markdown",
   "id": "a0d5063f",
   "metadata": {},
   "source": [
    "## A General look at the data\n"
   ]
  },
  {
   "cell_type": "code",
   "execution_count": null,
   "id": "2333dfc5",
   "metadata": {},
   "outputs": [],
   "source": [
    "patient_count_byShow = noshowappointments_df.groupby(\"No-show\").count()\n",
    "patient_count_byShow"
   ]
  },
  {
   "cell_type": "code",
   "execution_count": null,
   "id": "c269bc9a",
   "metadata": {},
   "outputs": [],
   "source": [
    "noShow_dist_plot = noshowappointments_df[\"No-show\"].plot(kind=\"hist\")\n",
    "\n",
    "noShow_dist_plot.set_xlabel(\"0 = show ; 1 = no-show\")"
   ]
  },
  {
   "cell_type": "markdown",
   "id": "0b471089",
   "metadata": {},
   "source": [
    "where 1 refers to True, that is, the no-show patients; and 0 refers to False, ie. the patients who did show up.\n",
    "It can be observed that approximately 20% of all patients fail to show up for their appointments"
   ]
  },
  {
   "cell_type": "markdown",
   "id": "5f428a65",
   "metadata": {},
   "source": [
    "## Does the gender of the patient play a role in missing an appointment"
   ]
  },
  {
   "cell_type": "markdown",
   "id": "1c3b28d7",
   "metadata": {},
   "source": [
    "since the count method will give the same value for all columns, choosing \"Appointment Day\" arbitraraly just to get the count of patients. Then caculating the percentage of patients who didn't show up to the total number of patients of that gender"
   ]
  },
  {
   "cell_type": "code",
   "execution_count": null,
   "id": "05a450e3",
   "metadata": {},
   "outputs": [],
   "source": [
    "gender_grouped = noshowappointments_df.groupby(\"Gender\")\n",
    "gender_grouped.groups\n",
    "female_patiencount =gender_grouped.count()[\"Appointment Day\"][\"F\"]\n",
    "female_noshowsum = gender_grouped.sum()[\"No-show\"][\"F\"]\n",
    "female_noshowperc = female_noshowsum/female_patiencount\n",
    "female_noshowperc"
   ]
  },
  {
   "cell_type": "code",
   "execution_count": null,
   "id": "5ddc886a",
   "metadata": {},
   "outputs": [],
   "source": [
    "male_patiencount =gender_grouped.count()[\"Appointment Day\"][\"M\"]\n",
    "male_noshowsum = gender_grouped.sum()[\"No-show\"][\"M\"]\n",
    "male_noshowperc = male_noshowsum/male_patiencount\n",
    "male_noshowperc"
   ]
  },
  {
   "cell_type": "markdown",
   "id": "10f874f1",
   "metadata": {},
   "source": [
    "about 20% of both male and female patients do not show up to their appointments; suggesting no correlation between the gender of the patient and the likelihood of missing an appointment."
   ]
  },
  {
   "cell_type": "markdown",
   "id": "405331b3",
   "metadata": {},
   "source": [
    "## Do people tend to miss more or less appointments as they get older?"
   ]
  },
  {
   "cell_type": "code",
   "execution_count": null,
   "id": "a2e4208b",
   "metadata": {},
   "outputs": [],
   "source": [
    "age_total_count = noshowappointments_df.groupby(\"Age\").count()[\"Gender\"]\n"
   ]
  },
  {
   "cell_type": "markdown",
   "id": "3c8ec835",
   "metadata": {},
   "source": [
    "by multiplying by the \"No-show\" column we are left with the rows that correspond to the True value. the rows that correspond to False will equal 0 and are deleted from the data frame afterwards."
   ]
  },
  {
   "cell_type": "code",
   "execution_count": null,
   "id": "2307bf1e",
   "metadata": {},
   "outputs": [],
   "source": [
    "age_True = noshowappointments_df[\"Age\"]*noshowappointments_df[\"No-show\"]\n",
    "age_No_show = age_True.to_frame(name = \"Age; no show\")\n",
    "\n",
    "age_No_show = age_No_show[age_No_show[\"Age; no show\"] != 0]\n",
    "age_No_show = age_No_show.join(noshowappointments_df[\"Gender\"])\n",
    "age_No_show = age_No_show.groupby(\"Age; no show\").count()\n",
    "age_No_show = age_No_show[\"Gender\"]/age_total_count\n",
    "age_No_show = age_No_show.dropna()\n",
    "age_No_show =age_No_show.to_frame()\n",
    "age_No_show.columns=[\"No-Show\"]\n",
    "ageNoshow_plot = age_No_show.plot(title = \"Percentage of no-show patients by age\")\n",
    "ageNoshow_plot.set_xlabel( \"Age\")\n",
    "ageNoshow_plot.set_ylabel(\"% of patients of that age\")"
   ]
  },
  {
   "cell_type": "code",
   "execution_count": null,
   "id": "019d4005",
   "metadata": {},
   "outputs": [],
   "source": [
    "age_std_plot = (age_No_show-age_No_show.mean())/age_No_show.std(ddof=0)\n",
    "stdAgeNoShow_plot = age_std_plot.plot()\n",
    "stdAgeNoShow_plot.set_xlabel(\"Age\")\n",
    "stdAgeNoShow_plot.set_ylabel(\"standardized ratio of no show patients\")"
   ]
  },
  {
   "cell_type": "markdown",
   "id": "35e07e0b",
   "metadata": {},
   "source": [
    "There seems to be a slight fluctioation of data along the age axis. the relationship does not seem to be linear.the ratio of no-show\n",
    "patients starts to decrease after around 20 years of age. of course the data after age 80 is not as reliable as there are fewer data points to rely on."
   ]
  },
  {
   "cell_type": "markdown",
   "id": "2fe59c8d",
   "metadata": {},
   "source": [
    "## Does the no-show rate vary for different days of the week?"
   ]
  },
  {
   "cell_type": "code",
   "execution_count": null,
   "id": "3ab34ae1",
   "metadata": {},
   "outputs": [],
   "source": [
    "weekday_attendance = noshowappointments_df.groupby(\"Appointment Day\")\n",
    "weekday_attendance_df= weekday_attendance.sum()[\"No-show\"]"
   ]
  },
  {
   "cell_type": "code",
   "execution_count": null,
   "id": "b96ca56f",
   "metadata": {},
   "outputs": [],
   "source": [
    "total_patient_count = noshowappointments_df.groupby(\"Appointment Day\").count()[\"No-show\"]\n",
    "total_patient_count"
   ]
  },
  {
   "cell_type": "code",
   "execution_count": null,
   "id": "b1e9472e",
   "metadata": {},
   "outputs": [],
   "source": [
    "weekday_plot = (weekday_attendance_df/total_patient_count).plot(kind = \"bar\", title = \"No-show patients by Appointment day\")\n",
    "weekday_plot.set_ylabel(\"% of appointments made on that day\")"
   ]
  },
  {
   "cell_type": "markdown",
   "id": "c9ac6836",
   "metadata": {},
   "source": [
    "There is seemingly no correlation between the day of week and the percentage of people missing thier appointments"
   ]
  },
  {
   "cell_type": "markdown",
   "id": "22d38e04",
   "metadata": {},
   "source": [
    "## Conclusion : Perhaps people just don't show up sometimes."
   ]
  },
  {
   "cell_type": "markdown",
   "id": "4a32da40",
   "metadata": {},
   "source": [
    "Of the 3 variables examined none of them seem to have a strong relationship with the rate of no-shows.\n",
    "Although it seems that in all cases 20% of the patients do miss their appointments.\n",
    "\n",
    "However it's important to note that the dataset had erroneous data points such patients over the age of 80 (only 5 patients 115 years old). As well as other dataset limitation, listed below:\n",
    "\n",
    "the data used spans over aproximately 1.5 months of patient appointment records, which might not have been enough.\n",
    "data was collected from only one city in Brazil."
   ]
  },
  {
   "cell_type": "markdown",
   "id": "f4fbe33c",
   "metadata": {},
   "source": [
    "## Acknowledgement\n",
    "recources that helped with the code used in this analysis:\n",
    "links\n",
    "\n",
    "\n",
    "https://www.tutorialspoint.com/python/time_strptime.htm \n",
    "\n",
    "https://stackoverflow.com/questions/16766643/convert-date-string-to-day-of-week"
   ]
  }
 ],
 "metadata": {
  "kernelspec": {
   "display_name": "Python 3 (ipykernel)",
   "language": "python",
   "name": "python3"
  },
  "language_info": {
   "codemirror_mode": {
    "name": "ipython",
    "version": 3
   },
   "file_extension": ".py",
   "mimetype": "text/x-python",
   "name": "python",
   "nbconvert_exporter": "python",
   "pygments_lexer": "ipython3",
   "version": "3.10.9"
  }
 },
 "nbformat": 4,
 "nbformat_minor": 5
}
